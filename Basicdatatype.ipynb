{
  "nbformat": 4,
  "nbformat_minor": 0,
  "metadata": {
    "colab": {
      "provenance": [],
      "authorship_tag": "ABX9TyMm4UIzgtq/QYSrS5mF/G07",
      "include_colab_link": true
    },
    "kernelspec": {
      "name": "python3",
      "display_name": "Python 3"
    },
    "language_info": {
      "name": "python"
    }
  },
  "cells": [
    {
      "cell_type": "markdown",
      "metadata": {
        "id": "view-in-github",
        "colab_type": "text"
      },
      "source": [
        "<a href=\"https://colab.research.google.com/github/BibinJeevan/DS/blob/main/Basicdatatype.ipynb\" target=\"_parent\"><img src=\"https://colab.research.google.com/assets/colab-badge.svg\" alt=\"Open In Colab\"/></a>"
      ]
    },
    {
      "cell_type": "markdown",
      "source": [
        "Basic Datatypes"
      ],
      "metadata": {
        "id": "upS-Z9HJyyOq"
      }
    },
    {
      "cell_type": "code",
      "execution_count": null,
      "metadata": {
        "colab": {
          "base_uri": "https://localhost:8080/"
        },
        "id": "-Sc8XowQn3Tr",
        "outputId": "f8e8faa5-5c4f-42ef-e1da-8bb5db4c0509"
      },
      "outputs": [
        {
          "output_type": "stream",
          "name": "stdout",
          "text": [
            "5\n",
            "<class 'int'>\n"
          ]
        }
      ],
      "source": [
        "a=5\n",
        "print (a)\n",
        "print (type(a))"
      ]
    },
    {
      "cell_type": "code",
      "source": [
        "f=1.5\n",
        "print (f)\n",
        "print (type(f))"
      ],
      "metadata": {
        "colab": {
          "base_uri": "https://localhost:8080/"
        },
        "id": "19DoXgr6obvD",
        "outputId": "767884cd-ecb6-48d2-8eb0-b6e35d78a452"
      },
      "execution_count": null,
      "outputs": [
        {
          "output_type": "stream",
          "name": "stdout",
          "text": [
            "1.5\n",
            "<class 'float'>\n"
          ]
        }
      ]
    },
    {
      "cell_type": "code",
      "source": [
        "s=\"hello\"\n",
        "print (s)\n",
        "print (type(s))"
      ],
      "metadata": {
        "colab": {
          "base_uri": "https://localhost:8080/"
        },
        "id": "E0tGnlXToqvJ",
        "outputId": "5a88b75a-8396-4aa9-c941-cf3d6790da01"
      },
      "execution_count": null,
      "outputs": [
        {
          "output_type": "stream",
          "name": "stdout",
          "text": [
            "hello\n",
            "<class 'str'>\n"
          ]
        }
      ]
    },
    {
      "cell_type": "code",
      "source": [
        "b=True\n",
        "print (b)\n",
        "print (type(b))\n"
      ],
      "metadata": {
        "colab": {
          "base_uri": "https://localhost:8080/"
        },
        "id": "I8Em8rsSo2EC",
        "outputId": "7b344fb8-8be2-4b08-a30d-e8815fd1066b"
      },
      "execution_count": null,
      "outputs": [
        {
          "output_type": "stream",
          "name": "stdout",
          "text": [
            "True\n",
            "<class 'bool'>\n"
          ]
        }
      ]
    },
    {
      "cell_type": "code",
      "source": [
        "t=5+3j\n",
        "print (t)\n",
        "print (type(t))\n"
      ],
      "metadata": {
        "colab": {
          "base_uri": "https://localhost:8080/"
        },
        "id": "SnOqWqWHo-LR",
        "outputId": "245be90e-4dca-4cdf-deef-b519b2592353"
      },
      "execution_count": null,
      "outputs": [
        {
          "output_type": "stream",
          "name": "stdout",
          "text": [
            "(5+3j)\n",
            "<class 'complex'>\n"
          ]
        }
      ]
    },
    {
      "cell_type": "markdown",
      "source": [
        "Arithmetic Operations"
      ],
      "metadata": {
        "id": "2V12Irpot-I_"
      }
    },
    {
      "cell_type": "code",
      "source": [
        "a=7\n",
        "b=3\n",
        "ab_sum=a+b\n",
        "print (ab_sum)"
      ],
      "metadata": {
        "colab": {
          "base_uri": "https://localhost:8080/"
        },
        "id": "_9KEi7O9pG1w",
        "outputId": "bfa3bba8-84a3-4b48-af6e-6d60c708a097"
      },
      "execution_count": null,
      "outputs": [
        {
          "output_type": "stream",
          "name": "stdout",
          "text": [
            "10\n"
          ]
        }
      ]
    },
    {
      "cell_type": "code",
      "source": [
        "ab_dif=a-b\n",
        "print (ab_dif)"
      ],
      "metadata": {
        "colab": {
          "base_uri": "https://localhost:8080/"
        },
        "id": "l_tV3UZvpPiB",
        "outputId": "10d88659-7afd-46a1-9edd-24c836649ade"
      },
      "execution_count": null,
      "outputs": [
        {
          "output_type": "stream",
          "name": "stdout",
          "text": [
            "4\n"
          ]
        }
      ]
    },
    {
      "cell_type": "code",
      "source": [
        "ab_pro=a*b\n",
        "print (ab_pro)"
      ],
      "metadata": {
        "colab": {
          "base_uri": "https://localhost:8080/"
        },
        "id": "jSvSRB_ppdqW",
        "outputId": "1846bd24-9775-497d-d394-befb9340fada"
      },
      "execution_count": null,
      "outputs": [
        {
          "output_type": "stream",
          "name": "stdout",
          "text": [
            "21\n"
          ]
        }
      ]
    },
    {
      "cell_type": "code",
      "source": [
        "ab_quo=a/b\n",
        "print (ab_quo)"
      ],
      "metadata": {
        "colab": {
          "base_uri": "https://localhost:8080/"
        },
        "id": "c9S2Vq5eqK-Z",
        "outputId": "eb4826a2-097b-48d3-bf77-c4713abd24fc"
      },
      "execution_count": null,
      "outputs": [
        {
          "output_type": "stream",
          "name": "stdout",
          "text": [
            "2.3333333333333335\n"
          ]
        }
      ]
    },
    {
      "cell_type": "code",
      "source": [
        "ab_iquo=a//b\n",
        "print (ab_iquo)\n"
      ],
      "metadata": {
        "colab": {
          "base_uri": "https://localhost:8080/"
        },
        "id": "FT76NtBOqgQK",
        "outputId": "926cb55c-0514-42f8-a379-d271753b4aa1"
      },
      "execution_count": null,
      "outputs": [
        {
          "output_type": "stream",
          "name": "stdout",
          "text": [
            "2\n"
          ]
        }
      ]
    },
    {
      "cell_type": "code",
      "source": [
        "ab_rem=a%b\n",
        "print (ab_rem)\n"
      ],
      "metadata": {
        "colab": {
          "base_uri": "https://localhost:8080/"
        },
        "id": "DBwuEmFjqxhx",
        "outputId": "38ca85ab-5f3c-406f-8566-15f38afda062"
      },
      "execution_count": null,
      "outputs": [
        {
          "output_type": "stream",
          "name": "stdout",
          "text": [
            "1\n"
          ]
        }
      ]
    },
    {
      "cell_type": "code",
      "source": [
        "ab_pow=a**b\n",
        "print (ab_pow)\n"
      ],
      "metadata": {
        "colab": {
          "base_uri": "https://localhost:8080/"
        },
        "id": "j9Gq8a5Cq5XZ",
        "outputId": "b1a5c9ef-0456-42a9-ffa3-3f6dd38467b4"
      },
      "execution_count": null,
      "outputs": [
        {
          "output_type": "stream",
          "name": "stdout",
          "text": [
            "343\n"
          ]
        }
      ]
    },
    {
      "cell_type": "markdown",
      "source": [
        "Boolean Operations"
      ],
      "metadata": {
        "id": "thC5KupYzTgb"
      }
    },
    {
      "cell_type": "code",
      "source": [
        "T=True\n",
        "F=False\n",
        "print (T,F)"
      ],
      "metadata": {
        "colab": {
          "base_uri": "https://localhost:8080/"
        },
        "id": "AEYKFng6rAcy",
        "outputId": "3875d9f4-cb67-4b99-cb85-6361735d2911"
      },
      "execution_count": null,
      "outputs": [
        {
          "output_type": "stream",
          "name": "stdout",
          "text": [
            "True False\n"
          ]
        }
      ]
    },
    {
      "cell_type": "code",
      "source": [
        "p=5>3\n",
        "print (p)\n"
      ],
      "metadata": {
        "colab": {
          "base_uri": "https://localhost:8080/"
        },
        "id": "6zwkObJ0rWUi",
        "outputId": "6c83c521-bb58-4e04-eaa6-d46177464c31"
      },
      "execution_count": null,
      "outputs": [
        {
          "output_type": "stream",
          "name": "stdout",
          "text": [
            "True\n"
          ]
        }
      ]
    },
    {
      "cell_type": "code",
      "source": [
        "q=-1<-12.5\n",
        "print (q)"
      ],
      "metadata": {
        "colab": {
          "base_uri": "https://localhost:8080/"
        },
        "id": "7NWBlgtrsZKj",
        "outputId": "597b31c3-cac3-4734-efa2-13aadccbc6df"
      },
      "execution_count": null,
      "outputs": [
        {
          "output_type": "stream",
          "name": "stdout",
          "text": [
            "False\n"
          ]
        }
      ]
    },
    {
      "cell_type": "code",
      "source": [
        "print (p and q)"
      ],
      "metadata": {
        "colab": {
          "base_uri": "https://localhost:8080/"
        },
        "id": "NFS5fMvQshcx",
        "outputId": "fd656c9d-8d0b-47aa-f55f-c068dab7b59c"
      },
      "execution_count": null,
      "outputs": [
        {
          "output_type": "stream",
          "name": "stdout",
          "text": [
            "False\n"
          ]
        }
      ]
    },
    {
      "cell_type": "code",
      "source": [
        "print (p or q)"
      ],
      "metadata": {
        "colab": {
          "base_uri": "https://localhost:8080/"
        },
        "id": "Fh3S1XYgsmvp",
        "outputId": "5ae1caf2-f13d-41f1-9bd0-93065bce2e81"
      },
      "execution_count": null,
      "outputs": [
        {
          "output_type": "stream",
          "name": "stdout",
          "text": [
            "True\n"
          ]
        }
      ]
    },
    {
      "cell_type": "code",
      "source": [],
      "metadata": {
        "id": "0E_1kAG6vcYh"
      },
      "execution_count": null,
      "outputs": []
    },
    {
      "cell_type": "code",
      "source": [
        "print (not q)"
      ],
      "metadata": {
        "colab": {
          "base_uri": "https://localhost:8080/"
        },
        "id": "9YJU6DGjs6mC",
        "outputId": "c3d335bd-4331-4982-83b9-93e369d189dd"
      },
      "execution_count": null,
      "outputs": [
        {
          "output_type": "stream",
          "name": "stdout",
          "text": [
            "True\n"
          ]
        }
      ]
    },
    {
      "cell_type": "markdown",
      "source": [
        "Some String Operations"
      ],
      "metadata": {
        "id": "Kh9BF7o8u-1y"
      }
    },
    {
      "cell_type": "code",
      "source": [
        "s='hello'\n",
        "u=\"hello\"\n",
        "print (s)\n",
        "print (u)"
      ],
      "metadata": {
        "colab": {
          "base_uri": "https://localhost:8080/"
        },
        "id": "exOTdb4QvBf6",
        "outputId": "d84f6cba-1fc3-4cb2-c7bb-397ecb698570"
      },
      "execution_count": null,
      "outputs": [
        {
          "output_type": "stream",
          "name": "stdout",
          "text": [
            "hello\n",
            "hello\n"
          ]
        }
      ]
    },
    {
      "cell_type": "code",
      "source": [
        "s1=\"python\"\n",
        "s2=\"world\"\n",
        "s3=s1+' '+s2\n",
        "print (s3)"
      ],
      "metadata": {
        "colab": {
          "base_uri": "https://localhost:8080/"
        },
        "id": "9xv8M5l4vawS",
        "outputId": "4ee800cf-20d8-4f96-b2c6-841eeeb60b96"
      },
      "execution_count": null,
      "outputs": [
        {
          "output_type": "stream",
          "name": "stdout",
          "text": [
            "python world\n"
          ]
        }
      ]
    },
    {
      "cell_type": "code",
      "source": [
        "print (len(s3))\n"
      ],
      "metadata": {
        "colab": {
          "base_uri": "https://localhost:8080/"
        },
        "id": "4ctukNulvnrR",
        "outputId": "6de060f2-6590-4101-a36b-6ea80e8bbcfc"
      },
      "execution_count": null,
      "outputs": [
        {
          "output_type": "stream",
          "name": "stdout",
          "text": [
            "12\n"
          ]
        }
      ]
    },
    {
      "cell_type": "code",
      "source": [
        "print (s3.upper())"
      ],
      "metadata": {
        "colab": {
          "base_uri": "https://localhost:8080/"
        },
        "id": "aoWy7IE9vsFh",
        "outputId": "b0a7d5ee-2bfc-449d-a437-2785d29d8a3e"
      },
      "execution_count": null,
      "outputs": [
        {
          "output_type": "stream",
          "name": "stdout",
          "text": [
            "PYTHON WORLD\n"
          ]
        }
      ]
    },
    {
      "cell_type": "code",
      "source": [
        "print (s3.capitalize())"
      ],
      "metadata": {
        "colab": {
          "base_uri": "https://localhost:8080/"
        },
        "id": "jlCSVA1qvxzB",
        "outputId": "1a021b29-1f46-4613-ea37-7ecd793e1e4a"
      },
      "execution_count": null,
      "outputs": [
        {
          "output_type": "stream",
          "name": "stdout",
          "text": [
            "Python world\n"
          ]
        }
      ]
    },
    {
      "cell_type": "code",
      "source": [
        "print (s3.lower())"
      ],
      "metadata": {
        "colab": {
          "base_uri": "https://localhost:8080/"
        },
        "id": "-OWEQ29ev5_x",
        "outputId": "72480519-6165-4cfc-ac98-90978a66c9de"
      },
      "execution_count": null,
      "outputs": [
        {
          "output_type": "stream",
          "name": "stdout",
          "text": [
            "python world\n"
          ]
        }
      ]
    },
    {
      "cell_type": "code",
      "source": [
        "print ('hello world how are you'.split(' '))"
      ],
      "metadata": {
        "colab": {
          "base_uri": "https://localhost:8080/"
        },
        "id": "pQLMCaNHv_qp",
        "outputId": "cc1e88a2-85f9-4cff-cd23-b3efce27b3c2"
      },
      "execution_count": null,
      "outputs": [
        {
          "output_type": "stream",
          "name": "stdout",
          "text": [
            "['hello', 'world', 'how', 'are', 'you']\n"
          ]
        }
      ]
    },
    {
      "cell_type": "code",
      "source": [
        "print ('boo'.replace('o','e'))"
      ],
      "metadata": {
        "colab": {
          "base_uri": "https://localhost:8080/"
        },
        "id": "oXjDn1grwNax",
        "outputId": "ad03bc6a-1fff-4984-feed-2579b178034f"
      },
      "execution_count": null,
      "outputs": [
        {
          "output_type": "stream",
          "name": "stdout",
          "text": [
            "bee\n"
          ]
        }
      ]
    },
    {
      "cell_type": "code",
      "source": [
        "word ='jewellery'\n",
        "print (word.find('well'))\n",
        "print (word.find('is'))"
      ],
      "metadata": {
        "colab": {
          "base_uri": "https://localhost:8080/"
        },
        "id": "uBNKa-DfwnYr",
        "outputId": "66680405-cee6-4d6c-dfd0-bda09a308edb"
      },
      "execution_count": null,
      "outputs": [
        {
          "output_type": "stream",
          "name": "stdout",
          "text": [
            "2\n",
            "-1\n"
          ]
        }
      ]
    },
    {
      "cell_type": "code",
      "source": [
        "s3='%s %s %d'%(s1,s2,1011)\n",
        "print (s3)"
      ],
      "metadata": {
        "colab": {
          "base_uri": "https://localhost:8080/"
        },
        "id": "fl43zwwwygZS",
        "outputId": "2d3078c0-b59b-4af4-9190-dec490c7dbe5"
      },
      "execution_count": null,
      "outputs": [
        {
          "output_type": "stream",
          "name": "stdout",
          "text": [
            "python world 1011\n"
          ]
        }
      ]
    },
    {
      "cell_type": "markdown",
      "source": [
        "Control Structure"
      ],
      "metadata": {
        "id": "nGvczg5_z5ao"
      }
    },
    {
      "cell_type": "markdown",
      "source": [
        "if-else"
      ],
      "metadata": {
        "id": "7gTEptfz0XES"
      }
    },
    {
      "cell_type": "code",
      "source": [
        "number=128\n",
        "if number>99 and number<1000:\n",
        "  print ('3 digit')\n",
        "else:\n",
        "  print ('not 3 digit')"
      ],
      "metadata": {
        "colab": {
          "base_uri": "https://localhost:8080/"
        },
        "id": "QEFVgxiNyuUD",
        "outputId": "856db0b6-0a50-4595-a931-e767eebaf6b2"
      },
      "execution_count": null,
      "outputs": [
        {
          "output_type": "stream",
          "name": "stdout",
          "text": [
            "3 digit\n"
          ]
        }
      ]
    },
    {
      "cell_type": "markdown",
      "source": [
        "if-elif-else"
      ],
      "metadata": {
        "id": "cKMl4YIQ1tfn"
      }
    },
    {
      "cell_type": "code",
      "source": [
        "response=input('Are you familiar with python:')\n",
        "if response==\"yes\":\n",
        "  print(\"you can skip this course:-1\")\n",
        "elif response==\"no\":\n",
        "  print(\"you are at the right place:-1\")\n",
        "else:\n",
        "  print(\"sorry wrong input:-1\")"
      ],
      "metadata": {
        "colab": {
          "base_uri": "https://localhost:8080/"
        },
        "id": "BbkukuxS0V-K",
        "outputId": "771fe4ac-d91d-4e24-af1d-17b75a771263"
      },
      "execution_count": null,
      "outputs": [
        {
          "output_type": "stream",
          "name": "stdout",
          "text": [
            "Are you familiar with python:\n",
            "sorry wrong input:-1\n"
          ]
        }
      ]
    },
    {
      "cell_type": "markdown",
      "source": [
        "for-loop"
      ],
      "metadata": {
        "id": "ikXrAB051wKb"
      }
    },
    {
      "cell_type": "code",
      "source": [
        "for x in range(10):\n",
        "  print (x,end=' ')"
      ],
      "metadata": {
        "id": "pobAf1KN1q98",
        "colab": {
          "base_uri": "https://localhost:8080/"
        },
        "outputId": "2f86c3ba-e4c9-4410-f412-b28e84e61335"
      },
      "execution_count": 41,
      "outputs": [
        {
          "output_type": "stream",
          "name": "stdout",
          "text": [
            "0 1 2 3 4 5 6 7 8 9 "
          ]
        }
      ]
    },
    {
      "cell_type": "code",
      "source": [
        "limit=int(input(\"Enter a limit:\"))\n",
        "sum=0\n",
        "for i in range(1,limit+1):\n",
        "  if i % 2!=0:\n",
        "    sum +=i\n",
        "print(\"add sum=\"+str(sum))"
      ],
      "metadata": {
        "colab": {
          "base_uri": "https://localhost:8080/"
        },
        "id": "fpYU9Z302dnb",
        "outputId": "1d90b06c-f2c8-4aec-e915-ec4f5d1d1605"
      },
      "execution_count": 45,
      "outputs": [
        {
          "output_type": "stream",
          "name": "stdout",
          "text": [
            "Enter a limit:5\n",
            "add sum=9\n"
          ]
        }
      ]
    },
    {
      "cell_type": "code",
      "source": [
        "print(list(range(10)))"
      ],
      "metadata": {
        "colab": {
          "base_uri": "https://localhost:8080/"
        },
        "id": "15MQ-KuX3FLb",
        "outputId": "ea2cbfdf-210a-4256-b461-ca6ab7db1970"
      },
      "execution_count": 46,
      "outputs": [
        {
          "output_type": "stream",
          "name": "stdout",
          "text": [
            "[0, 1, 2, 3, 4, 5, 6, 7, 8, 9]\n"
          ]
        }
      ]
    },
    {
      "cell_type": "code",
      "source": [
        "print(list(range(1,10)))"
      ],
      "metadata": {
        "colab": {
          "base_uri": "https://localhost:8080/"
        },
        "id": "nrAMtHSt3bX6",
        "outputId": "d9094e88-1525-4c8f-c9ac-cf012630cf72"
      },
      "execution_count": 47,
      "outputs": [
        {
          "output_type": "stream",
          "name": "stdout",
          "text": [
            "[1, 2, 3, 4, 5, 6, 7, 8, 9]\n"
          ]
        }
      ]
    },
    {
      "cell_type": "code",
      "source": [
        "print(list(range(1,10,2)))"
      ],
      "metadata": {
        "colab": {
          "base_uri": "https://localhost:8080/"
        },
        "id": "YCl6klFm3hxp",
        "outputId": "8d8c0343-7277-491c-e378-ca355b67ba55"
      },
      "execution_count": 48,
      "outputs": [
        {
          "output_type": "stream",
          "name": "stdout",
          "text": [
            "[1, 3, 5, 7, 9]\n"
          ]
        }
      ]
    },
    {
      "cell_type": "markdown",
      "source": [
        "While Loop"
      ],
      "metadata": {
        "id": "kbs-Xuep3mxp"
      }
    },
    {
      "cell_type": "code",
      "source": [
        "number=int(input(\"Enter number:\"))\n",
        "s=0\n",
        "while number>0:\n",
        "  s+=number % 10\n",
        "  number=number//10\n",
        "print(s)"
      ],
      "metadata": {
        "colab": {
          "base_uri": "https://localhost:8080/"
        },
        "id": "ImzDdg583pmw",
        "outputId": "00c0de6d-9a40-4dbf-f6ab-e3ea1eb62768"
      },
      "execution_count": 49,
      "outputs": [
        {
          "output_type": "stream",
          "name": "stdout",
          "text": [
            "Enter number:123\n",
            "6\n"
          ]
        }
      ]
    }
  ]
}