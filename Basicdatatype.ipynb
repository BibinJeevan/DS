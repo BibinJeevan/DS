{
  "nbformat": 4,
  "nbformat_minor": 0,
  "metadata": {
    "colab": {
      "provenance": [],
      "authorship_tag": "ABX9TyMsudnWwEwR5xbrjepxf+F/",
      "include_colab_link": true
    },
    "kernelspec": {
      "name": "python3",
      "display_name": "Python 3"
    },
    "language_info": {
      "name": "python"
    }
  },
  "cells": [
    {
      "cell_type": "markdown",
      "metadata": {
        "id": "view-in-github",
        "colab_type": "text"
      },
      "source": [
        "<a href=\"https://colab.research.google.com/github/BibinJeevan/DS/blob/main/Basicdatatype.ipynb\" target=\"_parent\"><img src=\"https://colab.research.google.com/assets/colab-badge.svg\" alt=\"Open In Colab\"/></a>"
      ]
    },
    {
      "cell_type": "code",
      "execution_count": 2,
      "metadata": {
        "colab": {
          "base_uri": "https://localhost:8080/"
        },
        "id": "-Sc8XowQn3Tr",
        "outputId": "f8e8faa5-5c4f-42ef-e1da-8bb5db4c0509"
      },
      "outputs": [
        {
          "output_type": "stream",
          "name": "stdout",
          "text": [
            "5\n",
            "<class 'int'>\n"
          ]
        }
      ],
      "source": [
        "a=5\n",
        "print (a)\n",
        "print (type(a))"
      ]
    },
    {
      "cell_type": "code",
      "source": [
        "f=1.5\n",
        "print (f)\n",
        "print (type(f))"
      ],
      "metadata": {
        "colab": {
          "base_uri": "https://localhost:8080/"
        },
        "id": "19DoXgr6obvD",
        "outputId": "767884cd-ecb6-48d2-8eb0-b6e35d78a452"
      },
      "execution_count": 3,
      "outputs": [
        {
          "output_type": "stream",
          "name": "stdout",
          "text": [
            "1.5\n",
            "<class 'float'>\n"
          ]
        }
      ]
    },
    {
      "cell_type": "code",
      "source": [
        "s=\"hello\"\n",
        "print (s)\n",
        "print (type(s))"
      ],
      "metadata": {
        "colab": {
          "base_uri": "https://localhost:8080/"
        },
        "id": "E0tGnlXToqvJ",
        "outputId": "5a88b75a-8396-4aa9-c941-cf3d6790da01"
      },
      "execution_count": 4,
      "outputs": [
        {
          "output_type": "stream",
          "name": "stdout",
          "text": [
            "hello\n",
            "<class 'str'>\n"
          ]
        }
      ]
    },
    {
      "cell_type": "code",
      "source": [
        "b=True\n",
        "print (b)\n",
        "print (type(b))\n"
      ],
      "metadata": {
        "colab": {
          "base_uri": "https://localhost:8080/"
        },
        "id": "I8Em8rsSo2EC",
        "outputId": "7b344fb8-8be2-4b08-a30d-e8815fd1066b"
      },
      "execution_count": 6,
      "outputs": [
        {
          "output_type": "stream",
          "name": "stdout",
          "text": [
            "True\n",
            "<class 'bool'>\n"
          ]
        }
      ]
    },
    {
      "cell_type": "code",
      "source": [
        "t=5+3j\n",
        "print (t)\n",
        "print (type(t))\n"
      ],
      "metadata": {
        "colab": {
          "base_uri": "https://localhost:8080/"
        },
        "id": "SnOqWqWHo-LR",
        "outputId": "245be90e-4dca-4cdf-deef-b519b2592353"
      },
      "execution_count": 7,
      "outputs": [
        {
          "output_type": "stream",
          "name": "stdout",
          "text": [
            "(5+3j)\n",
            "<class 'complex'>\n"
          ]
        }
      ]
    },
    {
      "cell_type": "markdown",
      "source": [
        "Arithmeti Operations"
      ],
      "metadata": {
        "id": "2V12Irpot-I_"
      }
    },
    {
      "cell_type": "code",
      "source": [
        "a=7\n",
        "b=3\n",
        "ab_sum=a+b\n",
        "print (ab_sum)"
      ],
      "metadata": {
        "colab": {
          "base_uri": "https://localhost:8080/"
        },
        "id": "_9KEi7O9pG1w",
        "outputId": "bfa3bba8-84a3-4b48-af6e-6d60c708a097"
      },
      "execution_count": 8,
      "outputs": [
        {
          "output_type": "stream",
          "name": "stdout",
          "text": [
            "10\n"
          ]
        }
      ]
    },
    {
      "cell_type": "code",
      "source": [
        "ab_dif=a-b\n",
        "print (ab_dif)"
      ],
      "metadata": {
        "colab": {
          "base_uri": "https://localhost:8080/"
        },
        "id": "l_tV3UZvpPiB",
        "outputId": "10d88659-7afd-46a1-9edd-24c836649ade"
      },
      "execution_count": 9,
      "outputs": [
        {
          "output_type": "stream",
          "name": "stdout",
          "text": [
            "4\n"
          ]
        }
      ]
    },
    {
      "cell_type": "code",
      "source": [
        "ab_pro=a*b\n",
        "print (ab_pro)"
      ],
      "metadata": {
        "colab": {
          "base_uri": "https://localhost:8080/"
        },
        "id": "jSvSRB_ppdqW",
        "outputId": "1846bd24-9775-497d-d394-befb9340fada"
      },
      "execution_count": 10,
      "outputs": [
        {
          "output_type": "stream",
          "name": "stdout",
          "text": [
            "21\n"
          ]
        }
      ]
    },
    {
      "cell_type": "code",
      "source": [
        "ab_quo=a/b\n",
        "print (ab_quo)"
      ],
      "metadata": {
        "colab": {
          "base_uri": "https://localhost:8080/"
        },
        "id": "c9S2Vq5eqK-Z",
        "outputId": "eb4826a2-097b-48d3-bf77-c4713abd24fc"
      },
      "execution_count": 11,
      "outputs": [
        {
          "output_type": "stream",
          "name": "stdout",
          "text": [
            "2.3333333333333335\n"
          ]
        }
      ]
    },
    {
      "cell_type": "code",
      "source": [
        "ab_iquo=a//b\n",
        "print (ab_iquo)\n"
      ],
      "metadata": {
        "colab": {
          "base_uri": "https://localhost:8080/"
        },
        "id": "FT76NtBOqgQK",
        "outputId": "926cb55c-0514-42f8-a379-d271753b4aa1"
      },
      "execution_count": 12,
      "outputs": [
        {
          "output_type": "stream",
          "name": "stdout",
          "text": [
            "2\n"
          ]
        }
      ]
    },
    {
      "cell_type": "code",
      "source": [
        "ab_rem=a%b\n",
        "print (ab_rem)\n"
      ],
      "metadata": {
        "colab": {
          "base_uri": "https://localhost:8080/"
        },
        "id": "DBwuEmFjqxhx",
        "outputId": "38ca85ab-5f3c-406f-8566-15f38afda062"
      },
      "execution_count": 13,
      "outputs": [
        {
          "output_type": "stream",
          "name": "stdout",
          "text": [
            "1\n"
          ]
        }
      ]
    },
    {
      "cell_type": "code",
      "source": [
        "ab_pow=a**b\n",
        "print (ab_pow)\n"
      ],
      "metadata": {
        "colab": {
          "base_uri": "https://localhost:8080/"
        },
        "id": "j9Gq8a5Cq5XZ",
        "outputId": "b1a5c9ef-0456-42a9-ffa3-3f6dd38467b4"
      },
      "execution_count": 14,
      "outputs": [
        {
          "output_type": "stream",
          "name": "stdout",
          "text": [
            "343\n"
          ]
        }
      ]
    },
    {
      "cell_type": "code",
      "source": [
        "T=True\n",
        "F=False\n",
        "print (T,F)"
      ],
      "metadata": {
        "colab": {
          "base_uri": "https://localhost:8080/"
        },
        "id": "AEYKFng6rAcy",
        "outputId": "3875d9f4-cb67-4b99-cb85-6361735d2911"
      },
      "execution_count": 15,
      "outputs": [
        {
          "output_type": "stream",
          "name": "stdout",
          "text": [
            "True False\n"
          ]
        }
      ]
    },
    {
      "cell_type": "code",
      "source": [
        "p=5>3\n",
        "print (p)\n"
      ],
      "metadata": {
        "colab": {
          "base_uri": "https://localhost:8080/"
        },
        "id": "6zwkObJ0rWUi",
        "outputId": "6c83c521-bb58-4e04-eaa6-d46177464c31"
      },
      "execution_count": 16,
      "outputs": [
        {
          "output_type": "stream",
          "name": "stdout",
          "text": [
            "True\n"
          ]
        }
      ]
    },
    {
      "cell_type": "code",
      "source": [
        "q=-1<-12.5\n",
        "print (q)"
      ],
      "metadata": {
        "colab": {
          "base_uri": "https://localhost:8080/"
        },
        "id": "7NWBlgtrsZKj",
        "outputId": "597b31c3-cac3-4734-efa2-13aadccbc6df"
      },
      "execution_count": 18,
      "outputs": [
        {
          "output_type": "stream",
          "name": "stdout",
          "text": [
            "False\n"
          ]
        }
      ]
    },
    {
      "cell_type": "code",
      "source": [
        "print (p and q)"
      ],
      "metadata": {
        "colab": {
          "base_uri": "https://localhost:8080/"
        },
        "id": "NFS5fMvQshcx",
        "outputId": "fd656c9d-8d0b-47aa-f55f-c068dab7b59c"
      },
      "execution_count": 19,
      "outputs": [
        {
          "output_type": "stream",
          "name": "stdout",
          "text": [
            "False\n"
          ]
        }
      ]
    },
    {
      "cell_type": "code",
      "source": [
        "print (p or q)"
      ],
      "metadata": {
        "colab": {
          "base_uri": "https://localhost:8080/"
        },
        "id": "Fh3S1XYgsmvp",
        "outputId": "5ae1caf2-f13d-41f1-9bd0-93065bce2e81"
      },
      "execution_count": 20,
      "outputs": [
        {
          "output_type": "stream",
          "name": "stdout",
          "text": [
            "True\n"
          ]
        }
      ]
    },
    {
      "cell_type": "code",
      "source": [
        "print (not q)"
      ],
      "metadata": {
        "id": "9YJU6DGjs6mC"
      },
      "execution_count": null,
      "outputs": []
    },
    {
      "cell_type": "code",
      "source": [],
      "metadata": {
        "id": "Z2mynlRuuA-J"
      },
      "execution_count": null,
      "outputs": []
    }
  ]
}